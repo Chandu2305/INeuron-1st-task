{
 "cells": [
  {
   "cell_type": "code",
   "execution_count": 1,
   "id": "03609d88",
   "metadata": {},
   "outputs": [],
   "source": [
    "s=\"this is my first python programming class and i am learNING python string and its function\""
   ]
  },
  {
   "cell_type": "code",
   "execution_count": 2,
   "id": "925d912a",
   "metadata": {},
   "outputs": [
    {
     "data": {
      "text/plain": [
       "'this is my first python programming class and i am learNING python string and its function'"
      ]
     },
     "execution_count": 2,
     "metadata": {},
     "output_type": "execute_result"
    }
   ],
   "source": [
    "s"
   ]
  },
  {
   "cell_type": "code",
   "execution_count": 3,
   "id": "2334e366",
   "metadata": {},
   "outputs": [],
   "source": [
    "## 1) Try to extract data from index one to index 30 with a jump of 3 "
   ]
  },
  {
   "cell_type": "code",
   "execution_count": 5,
   "id": "7fc37f16",
   "metadata": {},
   "outputs": [
    {
     "data": {
      "text/plain": [
       "'h   r tnrr'"
      ]
     },
     "execution_count": 5,
     "metadata": {},
     "output_type": "execute_result"
    }
   ],
   "source": [
    "s[1:30:3]"
   ]
  },
  {
   "cell_type": "code",
   "execution_count": 6,
   "id": "c7482d89",
   "metadata": {},
   "outputs": [],
   "source": [
    "## 2) Try to reverse a string without using reverse function"
   ]
  },
  {
   "cell_type": "code",
   "execution_count": 7,
   "id": "1df6fd85",
   "metadata": {},
   "outputs": [
    {
     "data": {
      "text/plain": [
       "'noitcnuf sti dna gnirts nohtyp GNINrael ma i dna ssalc gnimmargorp nohtyp tsrif ym si siht'"
      ]
     },
     "execution_count": 7,
     "metadata": {},
     "output_type": "execute_result"
    }
   ],
   "source": [
    "s[::-1]"
   ]
  },
  {
   "cell_type": "code",
   "execution_count": 8,
   "id": "e8e2f59c",
   "metadata": {},
   "outputs": [],
   "source": [
    "## 3) Try to split a string after conversion of entire string in upper case"
   ]
  },
  {
   "cell_type": "code",
   "execution_count": 9,
   "id": "8d7cd00a",
   "metadata": {},
   "outputs": [],
   "source": [
    "s =s.upper()"
   ]
  },
  {
   "cell_type": "code",
   "execution_count": 10,
   "id": "fe6f4720",
   "metadata": {},
   "outputs": [
    {
     "data": {
      "text/plain": [
       "'THIS IS MY FIRST PYTHON PROGRAMMING CLASS AND I AM LEARNING PYTHON STRING AND ITS FUNCTION'"
      ]
     },
     "execution_count": 10,
     "metadata": {},
     "output_type": "execute_result"
    }
   ],
   "source": [
    "s"
   ]
  },
  {
   "cell_type": "code",
   "execution_count": 11,
   "id": "c9a1a938",
   "metadata": {},
   "outputs": [
    {
     "data": {
      "text/plain": [
       "['THIS',\n",
       " 'IS',\n",
       " 'MY',\n",
       " 'FIRST',\n",
       " 'PYTHON',\n",
       " 'PROGRAMMING',\n",
       " 'CLASS',\n",
       " 'AND',\n",
       " 'I',\n",
       " 'AM',\n",
       " 'LEARNING',\n",
       " 'PYTHON',\n",
       " 'STRING',\n",
       " 'AND',\n",
       " 'ITS',\n",
       " 'FUNCTION']"
      ]
     },
     "execution_count": 11,
     "metadata": {},
     "output_type": "execute_result"
    }
   ],
   "source": [
    "s.split()"
   ]
  },
  {
   "cell_type": "code",
   "execution_count": 12,
   "id": "e853ef6c",
   "metadata": {},
   "outputs": [],
   "source": [
    "## 4) Try to convert the whole string into lower case"
   ]
  },
  {
   "cell_type": "code",
   "execution_count": 13,
   "id": "f150df7d",
   "metadata": {},
   "outputs": [],
   "source": [
    "s =s.lower()"
   ]
  },
  {
   "cell_type": "code",
   "execution_count": 14,
   "id": "52015fa2",
   "metadata": {},
   "outputs": [
    {
     "data": {
      "text/plain": [
       "'this is my first python programming class and i am learning python string and its function'"
      ]
     },
     "execution_count": 14,
     "metadata": {},
     "output_type": "execute_result"
    }
   ],
   "source": [
    "s"
   ]
  },
  {
   "cell_type": "code",
   "execution_count": 15,
   "id": "89d6e399",
   "metadata": {},
   "outputs": [],
   "source": [
    "## 5) Try to capitalize the whole string"
   ]
  },
  {
   "cell_type": "code",
   "execution_count": 17,
   "id": "da12f5eb",
   "metadata": {},
   "outputs": [
    {
     "data": {
      "text/plain": [
       "'This Is My First Python Programming Class And I Am Learning Python String And Its Function'"
      ]
     },
     "execution_count": 17,
     "metadata": {},
     "output_type": "execute_result"
    }
   ],
   "source": [
    "s.title()"
   ]
  },
  {
   "cell_type": "code",
   "execution_count": 18,
   "id": "4221b09e",
   "metadata": {},
   "outputs": [
    {
     "data": {
      "text/plain": [
       "'This is my first python programming class and i am learning python string and its function'"
      ]
     },
     "execution_count": 18,
     "metadata": {},
     "output_type": "execute_result"
    }
   ],
   "source": [
    "s.capitalize()"
   ]
  },
  {
   "cell_type": "code",
   "execution_count": 19,
   "id": "bdd60837",
   "metadata": {},
   "outputs": [],
   "source": [
    "## 6) Write a difference between isalnum and isalpha"
   ]
  },
  {
   "cell_type": "markdown",
   "id": "9d6caefd",
   "metadata": {},
   "source": [
    "isalpha = Return True if the string is an alphabetic string, False otherwise.\n",
    "isalnum = Return True if the string is an alpha-numeric string, False otherwise"
   ]
  },
  {
   "cell_type": "code",
   "execution_count": null,
   "id": "b699df08",
   "metadata": {},
   "outputs": [],
   "source": [
    "## 7) Try to give an example of expand tab"
   ]
  },
  {
   "cell_type": "code",
   "execution_count": 38,
   "id": "54322212",
   "metadata": {},
   "outputs": [],
   "source": [
    "c=\"1\\t23\\t32\\t05\\t12\\t\""
   ]
  },
  {
   "cell_type": "code",
   "execution_count": 39,
   "id": "f3ce468d",
   "metadata": {},
   "outputs": [
    {
     "data": {
      "text/plain": [
       "'1\\t23\\t32\\t05\\t12\\t'"
      ]
     },
     "execution_count": 39,
     "metadata": {},
     "output_type": "execute_result"
    }
   ],
   "source": [
    "c"
   ]
  },
  {
   "cell_type": "code",
   "execution_count": 40,
   "id": "1effa4cc",
   "metadata": {},
   "outputs": [
    {
     "data": {
      "text/plain": [
       "'1       23      32      05      12      '"
      ]
     },
     "execution_count": 40,
     "metadata": {},
     "output_type": "execute_result"
    }
   ],
   "source": [
    "c.expandtabs()"
   ]
  },
  {
   "cell_type": "code",
   "execution_count": 41,
   "id": "6878cce0",
   "metadata": {},
   "outputs": [
    {
     "name": "stdout",
     "output_type": "stream",
     "text": [
      "1\t23\t32\t05\t12\t\n"
     ]
    }
   ],
   "source": [
    "print(c)"
   ]
  },
  {
   "cell_type": "code",
   "execution_count": 42,
   "id": "afe55a7c",
   "metadata": {},
   "outputs": [],
   "source": [
    "## 8) give an example of strip, lstrip and rstrip"
   ]
  },
  {
   "cell_type": "code",
   "execution_count": 47,
   "id": "579b158e",
   "metadata": {},
   "outputs": [],
   "source": [
    "d = '     23051982     '"
   ]
  },
  {
   "cell_type": "code",
   "execution_count": 48,
   "id": "7398eeec",
   "metadata": {},
   "outputs": [
    {
     "data": {
      "text/plain": [
       "'23051982'"
      ]
     },
     "execution_count": 48,
     "metadata": {},
     "output_type": "execute_result"
    }
   ],
   "source": [
    "d.strip()"
   ]
  },
  {
   "cell_type": "code",
   "execution_count": 49,
   "id": "103da057",
   "metadata": {},
   "outputs": [
    {
     "data": {
      "text/plain": [
       "'23051982     '"
      ]
     },
     "execution_count": 49,
     "metadata": {},
     "output_type": "execute_result"
    }
   ],
   "source": [
    "d.lstrip()"
   ]
  },
  {
   "cell_type": "code",
   "execution_count": 50,
   "id": "ae18e139",
   "metadata": {},
   "outputs": [
    {
     "data": {
      "text/plain": [
       "'     23051982'"
      ]
     },
     "execution_count": 50,
     "metadata": {},
     "output_type": "execute_result"
    }
   ],
   "source": [
    "d.rstrip()"
   ]
  },
  {
   "cell_type": "code",
   "execution_count": 51,
   "id": "d4c92ed8",
   "metadata": {},
   "outputs": [],
   "source": [
    "## 9) Replace a string character by another character by taking your own example"
   ]
  },
  {
   "cell_type": "code",
   "execution_count": 67,
   "id": "e6e04db3",
   "metadata": {},
   "outputs": [],
   "source": [
    "e = \"its a sunny day today\""
   ]
  },
  {
   "cell_type": "code",
   "execution_count": 68,
   "id": "9ccfd9bc",
   "metadata": {},
   "outputs": [
    {
     "data": {
      "text/plain": [
       "'its a sunny day today'"
      ]
     },
     "execution_count": 68,
     "metadata": {},
     "output_type": "execute_result"
    }
   ],
   "source": [
    "e"
   ]
  },
  {
   "cell_type": "code",
   "execution_count": 69,
   "id": "d0feda13",
   "metadata": {},
   "outputs": [
    {
     "data": {
      "text/plain": [
       "'its a rainy day today'"
      ]
     },
     "execution_count": 69,
     "metadata": {},
     "output_type": "execute_result"
    }
   ],
   "source": [
    "e.replace(\"sunny\",\"rainy\")"
   ]
  },
  {
   "cell_type": "code",
   "execution_count": 70,
   "id": "73627e04",
   "metadata": {},
   "outputs": [],
   "source": [
    "## 10) Try to give a definition of string center function with an example"
   ]
  },
  {
   "cell_type": "code",
   "execution_count": 74,
   "id": "0e293f83",
   "metadata": {},
   "outputs": [],
   "source": [
    "f=('stranger')"
   ]
  },
  {
   "cell_type": "code",
   "execution_count": 75,
   "id": "31184388",
   "metadata": {},
   "outputs": [
    {
     "data": {
      "text/plain": [
       "'stranger'"
      ]
     },
     "execution_count": 75,
     "metadata": {},
     "output_type": "execute_result"
    }
   ],
   "source": [
    "f"
   ]
  },
  {
   "cell_type": "code",
   "execution_count": 77,
   "id": "ab4bc614",
   "metadata": {},
   "outputs": [
    {
     "data": {
      "text/plain": [
       "'$$$$$$stranger$$$$$$'"
      ]
     },
     "execution_count": 77,
     "metadata": {},
     "output_type": "execute_result"
    }
   ],
   "source": [
    "f.center(20, '$') ## Return a centered string of length width.\n",
    "                  ## Padding is done using the specified fill character (default is a space)."
   ]
  },
  {
   "cell_type": "code",
   "execution_count": 78,
   "id": "4d0648cd",
   "metadata": {},
   "outputs": [],
   "source": [
    "## 11) Write your own definition of compiler and interpretor \n",
    "## without copy past from internet in your own language"
   ]
  },
  {
   "cell_type": "markdown",
   "id": "55ce93da",
   "metadata": {},
   "source": [
    "Compiler:-\n",
    "1) Scans the entire program and translates it to machine code\n",
    "2) Shows all errors / warnings at same time\n",
    "3) Error message occurs after scanning the whole program\n",
    "4) Debugging is slow\n",
    "4) Less execution time as this scans the whole program and then throws error\n",
    "5) Used in C, C++\n",
    "\n",
    "\n",
    "Interpreter:-\n",
    "1) Scan the program line by line\n",
    "2) Shows one error at a time\n",
    "3) Error messages appears after each line is scanned\n",
    "4) Debugging is quicker\n",
    "5) As this scans line by line and throws up errors per line, execution is very slow\n",
    "6) Used in Java, Python etc"
   ]
  },
  {
   "cell_type": "code",
   "execution_count": 79,
   "id": "c2d9bfa2",
   "metadata": {},
   "outputs": [],
   "source": [
    "## 12) Python is a intrepreted or compiled language. Give a clear answer with your understanding"
   ]
  },
  {
   "cell_type": "markdown",
   "id": "415980cc",
   "metadata": {},
   "source": [
    "As per the above statement Python is intrepreted"
   ]
  },
  {
   "cell_type": "code",
   "execution_count": 80,
   "id": "9074dfab",
   "metadata": {},
   "outputs": [],
   "source": [
    "## 13) Try to write a usecase of python with your understanding"
   ]
  },
  {
   "cell_type": "markdown",
   "id": "e1509e78",
   "metadata": {},
   "source": [
    "\tInsurance.  \n",
    "\tRetail banking.  \n",
    "\tAerospace.  \n",
    "\tFinance.  \n",
    "\tBusiness services.\n",
    "\tWeb applications.\n",
    "\tSoftware development.\n",
    "\tData science.\n",
    "\tAI applications.\n",
    "\tGame development.\n"
   ]
  },
  {
   "cell_type": "code",
   "execution_count": null,
   "id": "faba2a32",
   "metadata": {},
   "outputs": [],
   "source": []
  }
 ],
 "metadata": {
  "kernelspec": {
   "display_name": "Python 3 (ipykernel)",
   "language": "python",
   "name": "python3"
  },
  "language_info": {
   "codemirror_mode": {
    "name": "ipython",
    "version": 3
   },
   "file_extension": ".py",
   "mimetype": "text/x-python",
   "name": "python",
   "nbconvert_exporter": "python",
   "pygments_lexer": "ipython3",
   "version": "3.9.7"
  }
 },
 "nbformat": 4,
 "nbformat_minor": 5
}
